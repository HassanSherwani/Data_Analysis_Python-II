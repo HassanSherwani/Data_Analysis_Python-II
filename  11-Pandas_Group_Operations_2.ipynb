{
 "cells": [
  {
   "cell_type": "markdown",
   "metadata": {},
   "source": [
    "#  Pandas Group Operations \n",
    "\n",
    "Earth Microbiome Project metadata"
   ]
  },
  {
   "cell_type": "markdown",
   "metadata": {},
   "source": [
    "# 1)- Importing key libraries"
   ]
  },
  {
   "cell_type": "code",
   "execution_count": 1,
   "metadata": {},
   "outputs": [],
   "source": [
    "#support both Python 2 and Python 3 with minimal overhead.\n",
    "from __future__ import absolute_import, division, print_function"
   ]
  },
  {
   "cell_type": "code",
   "execution_count": 2,
   "metadata": {},
   "outputs": [],
   "source": [
    "# I am an engineer. I care only about error not warning. So, let's be maverick and ignore warnings.\n",
    "import warnings\n",
    "warnings.filterwarnings('ignore')"
   ]
  },
  {
   "cell_type": "code",
   "execution_count": 3,
   "metadata": {},
   "outputs": [
    {
     "data": {
      "text/html": [
       "<style>body {\n",
       "    margin: 0;\n",
       "    font-family: Helvetica;\n",
       "}\n",
       "table.dataframe {\n",
       "    border-collapse: collapse;\n",
       "    border: none;\n",
       "}\n",
       "table.dataframe tr {\n",
       "    border: none;\n",
       "}\n",
       "table.dataframe td, table.dataframe th {\n",
       "    margin: 0;\n",
       "    border: 1px solid white;\n",
       "    padding-left: 0.25em;\n",
       "    padding-right: 0.25em;\n",
       "}\n",
       "table.dataframe th:not(:empty) {\n",
       "    background-color: #fec;\n",
       "    text-align: left;\n",
       "    font-weight: normal;\n",
       "}\n",
       "table.dataframe tr:nth-child(2) th:empty {\n",
       "    border-left: none;\n",
       "    border-right: 1px dashed #888;\n",
       "}\n",
       "table.dataframe td {\n",
       "    border: 2px solid #ccf;\n",
       "    background-color: #f4f4ff;\n",
       "}\n",
       "h3 {\n",
       "    color: white;\n",
       "    background-color: black;\n",
       "    padding: 0.5em;\n",
       "}\n",
       "</style>"
      ],
      "text/plain": [
       "<IPython.core.display.HTML object>"
      ]
     },
     "execution_count": 3,
     "metadata": {},
     "output_type": "execute_result"
    }
   ],
   "source": [
    "# What's life without style :). So, let's add style to our dataframes\n",
    "from IPython.core.display import HTML\n",
    "css = open('style-table.css').read() + open('style-notebook.css').read()\n",
    "HTML('<style>{}</style>'.format(css))"
   ]
  },
  {
   "cell_type": "code",
   "execution_count": 4,
   "metadata": {},
   "outputs": [],
   "source": [
    "import pandas as pd\n",
    "import numpy as np\n",
    "import sys\n",
    "import matplotlib.pyplot as plt\n",
    "import seaborn as sns\n",
    "%matplotlib inline"
   ]
  },
  {
   "cell_type": "code",
   "execution_count": 5,
   "metadata": {
    "scrolled": true
   },
   "outputs": [
    {
     "data": {
      "application/json": {
       "Software versions": [
        {
         "module": "Python",
         "version": "3.6.3 64bit [MSC v.1900 64 bit (AMD64)]"
        },
        {
         "module": "IPython",
         "version": "7.4.0"
        },
        {
         "module": "OS",
         "version": "Windows 10 10.0.16299 SP0"
        },
        {
         "module": "pandas",
         "version": "0.23.4"
        },
        {
         "module": "numpy",
         "version": "1.16.2"
        },
        {
         "module": "seaborn",
         "version": "0.9.0"
        },
        {
         "module": "matplotlib",
         "version": "2.1.0"
        },
        {
         "module": "sys",
         "version": "The 'sys' distribution was not found and is required by the application"
        }
       ]
      },
      "text/html": [
       "<table><tr><th>Software</th><th>Version</th></tr><tr><td>Python</td><td>3.6.3 64bit [MSC v.1900 64 bit (AMD64)]</td></tr><tr><td>IPython</td><td>7.4.0</td></tr><tr><td>OS</td><td>Windows 10 10.0.16299 SP0</td></tr><tr><td>pandas</td><td>0.23.4</td></tr><tr><td>numpy</td><td>1.16.2</td></tr><tr><td>seaborn</td><td>0.9.0</td></tr><tr><td>matplotlib</td><td>2.1.0</td></tr><tr><td>sys</td><td>The 'sys' distribution was not found and is required by the application</td></tr><tr><td colspan='2'>Thu Aug 22 17:05:07 2019 W. Europe Daylight Time</td></tr></table>"
      ],
      "text/latex": [
       "\\begin{tabular}{|l|l|}\\hline\n",
       "{\\bf Software} & {\\bf Version} \\\\ \\hline\\hline\n",
       "Python & 3.6.3 64bit [MSC v.1900 64 bit (AMD64)] \\\\ \\hline\n",
       "IPython & 7.4.0 \\\\ \\hline\n",
       "OS & Windows 10 10.0.16299 SP0 \\\\ \\hline\n",
       "pandas & 0.23.4 \\\\ \\hline\n",
       "numpy & 1.16.2 \\\\ \\hline\n",
       "seaborn & 0.9.0 \\\\ \\hline\n",
       "matplotlib & 2.1.0 \\\\ \\hline\n",
       "sys & The 'sys' distribution was not found and is required by the application \\\\ \\hline\n",
       "\\hline \\multicolumn{2}{|l|}{Thu Aug 22 17:05:07 2019 W. Europe Daylight Time} \\\\ \\hline\n",
       "\\end{tabular}\n"
      ],
      "text/plain": [
       "Software versions\n",
       "Python 3.6.3 64bit [MSC v.1900 64 bit (AMD64)]\n",
       "IPython 7.4.0\n",
       "OS Windows 10 10.0.16299 SP0\n",
       "pandas 0.23.4\n",
       "numpy 1.16.2\n",
       "seaborn 0.9.0\n",
       "matplotlib 2.1.0\n",
       "sys The 'sys' distribution was not found and is required by the application\n",
       "Thu Aug 22 17:05:07 2019 W. Europe Daylight Time"
      ]
     },
     "execution_count": 5,
     "metadata": {},
     "output_type": "execute_result"
    }
   ],
   "source": [
    "# first install: pip install version_information\n",
    "%reload_ext version_information\n",
    "%version_information pandas, numpy, seaborn, matplotlib, sys"
   ]
  },
  {
   "cell_type": "markdown",
   "metadata": {},
   "source": [
    "# 2)-Loading data"
   ]
  },
  {
   "cell_type": "code",
   "execution_count": 6,
   "metadata": {},
   "outputs": [],
   "source": [
    "# set max rows\n",
    "pd.set_option(\"display.max_rows\", 20)"
   ]
  },
  {
   "cell_type": "code",
   "execution_count": 8,
   "metadata": {},
   "outputs": [
    {
     "data": {
      "text/html": [
       "<div>\n",
       "<style scoped>\n",
       "    .dataframe tbody tr th:only-of-type {\n",
       "        vertical-align: middle;\n",
       "    }\n",
       "\n",
       "    .dataframe tbody tr th {\n",
       "        vertical-align: top;\n",
       "    }\n",
       "\n",
       "    .dataframe thead th {\n",
       "        text-align: right;\n",
       "    }\n",
       "</style>\n",
       "<table border=\"1\" class=\"dataframe\">\n",
       "  <thead>\n",
       "    <tr style=\"text-align: right;\">\n",
       "      <th></th>\n",
       "      <th>#SampleID</th>\n",
       "      <th>BarcodeSequence</th>\n",
       "      <th>LinkerPrimerSequence</th>\n",
       "      <th>Description</th>\n",
       "      <th>host_subject_id</th>\n",
       "      <th>study_id</th>\n",
       "      <th>title</th>\n",
       "      <th>principal_investigator</th>\n",
       "      <th>doi</th>\n",
       "      <th>ebi_accession</th>\n",
       "      <th>...</th>\n",
       "      <th>adiv_shannon</th>\n",
       "      <th>adiv_faith_pd</th>\n",
       "      <th>temperature_deg_c</th>\n",
       "      <th>ph</th>\n",
       "      <th>salinity_psu</th>\n",
       "      <th>oxygen_mg_per_l</th>\n",
       "      <th>phosphate_umol_per_l</th>\n",
       "      <th>ammonium_umol_per_l</th>\n",
       "      <th>nitrate_umol_per_l</th>\n",
       "      <th>sulfate_umol_per_l</th>\n",
       "    </tr>\n",
       "  </thead>\n",
       "  <tbody>\n",
       "    <tr>\n",
       "      <th>0</th>\n",
       "      <td>550.L1S116.s.1.sequence</td>\n",
       "      <td>ATGCCTGAGCAG</td>\n",
       "      <td>GTGCCAGCMGCCGCGGTAA</td>\n",
       "      <td>sample_20 stool</td>\n",
       "      <td>F4</td>\n",
       "      <td>550</td>\n",
       "      <td>Moving pictures of the human microbiome</td>\n",
       "      <td>Rob Knight</td>\n",
       "      <td>10.1186/gb-2011-12-5-r50</td>\n",
       "      <td>ERP021896</td>\n",
       "      <td>...</td>\n",
       "      <td>3.867414</td>\n",
       "      <td>12.457989</td>\n",
       "      <td>NaN</td>\n",
       "      <td>NaN</td>\n",
       "      <td>NaN</td>\n",
       "      <td>NaN</td>\n",
       "      <td>NaN</td>\n",
       "      <td>NaN</td>\n",
       "      <td>NaN</td>\n",
       "      <td>NaN</td>\n",
       "    </tr>\n",
       "    <tr>\n",
       "      <th>1</th>\n",
       "      <td>550.L1S119.s.1.sequence</td>\n",
       "      <td>CAGCACTAAGCG</td>\n",
       "      <td>GTGCCAGCMGCCGCGGTAA</td>\n",
       "      <td>sample_23 stool</td>\n",
       "      <td>F4</td>\n",
       "      <td>550</td>\n",
       "      <td>Moving pictures of the human microbiome</td>\n",
       "      <td>Rob Knight</td>\n",
       "      <td>10.1186/gb-2011-12-5-r50</td>\n",
       "      <td>ERP021896</td>\n",
       "      <td>...</td>\n",
       "      <td>3.265164</td>\n",
       "      <td>10.719448</td>\n",
       "      <td>NaN</td>\n",
       "      <td>NaN</td>\n",
       "      <td>NaN</td>\n",
       "      <td>NaN</td>\n",
       "      <td>NaN</td>\n",
       "      <td>NaN</td>\n",
       "      <td>NaN</td>\n",
       "      <td>NaN</td>\n",
       "    </tr>\n",
       "    <tr>\n",
       "      <th>2</th>\n",
       "      <td>550.L1S164.s.1.sequence</td>\n",
       "      <td>ATGTACGGCGAC</td>\n",
       "      <td>GTGCCAGCMGCCGCGGTAA</td>\n",
       "      <td>sample_73 stool</td>\n",
       "      <td>M3</td>\n",
       "      <td>550</td>\n",
       "      <td>Moving pictures of the human microbiome</td>\n",
       "      <td>Rob Knight</td>\n",
       "      <td>10.1186/gb-2011-12-5-r50</td>\n",
       "      <td>ERP021896</td>\n",
       "      <td>...</td>\n",
       "      <td>3.661124</td>\n",
       "      <td>14.214158</td>\n",
       "      <td>NaN</td>\n",
       "      <td>NaN</td>\n",
       "      <td>NaN</td>\n",
       "      <td>NaN</td>\n",
       "      <td>NaN</td>\n",
       "      <td>NaN</td>\n",
       "      <td>NaN</td>\n",
       "      <td>NaN</td>\n",
       "    </tr>\n",
       "    <tr>\n",
       "      <th>3</th>\n",
       "      <td>550.L1S194.s.1.sequence</td>\n",
       "      <td>CGAAGACTGCTG</td>\n",
       "      <td>GTGCCAGCMGCCGCGGTAA</td>\n",
       "      <td>sample_105 stool</td>\n",
       "      <td>M3</td>\n",
       "      <td>550</td>\n",
       "      <td>Moving pictures of the human microbiome</td>\n",
       "      <td>Rob Knight</td>\n",
       "      <td>10.1186/gb-2011-12-5-r50</td>\n",
       "      <td>ERP021896</td>\n",
       "      <td>...</td>\n",
       "      <td>4.439943</td>\n",
       "      <td>12.012602</td>\n",
       "      <td>NaN</td>\n",
       "      <td>NaN</td>\n",
       "      <td>NaN</td>\n",
       "      <td>NaN</td>\n",
       "      <td>NaN</td>\n",
       "      <td>NaN</td>\n",
       "      <td>NaN</td>\n",
       "      <td>NaN</td>\n",
       "    </tr>\n",
       "    <tr>\n",
       "      <th>4</th>\n",
       "      <td>550.L1S20.s.1.sequence</td>\n",
       "      <td>ACGGTGAGTGTC</td>\n",
       "      <td>GTGCCAGCMGCCGCGGTAA</td>\n",
       "      <td>sample_112 stool</td>\n",
       "      <td>F4</td>\n",
       "      <td>550</td>\n",
       "      <td>Moving pictures of the human microbiome</td>\n",
       "      <td>Rob Knight</td>\n",
       "      <td>10.1186/gb-2011-12-5-r50</td>\n",
       "      <td>ERP021896</td>\n",
       "      <td>...</td>\n",
       "      <td>3.327601</td>\n",
       "      <td>11.758069</td>\n",
       "      <td>NaN</td>\n",
       "      <td>NaN</td>\n",
       "      <td>NaN</td>\n",
       "      <td>NaN</td>\n",
       "      <td>NaN</td>\n",
       "      <td>NaN</td>\n",
       "      <td>NaN</td>\n",
       "      <td>NaN</td>\n",
       "    </tr>\n",
       "  </tbody>\n",
       "</table>\n",
       "<p>5 rows × 76 columns</p>\n",
       "</div>"
      ],
      "text/plain": [
       "                 #SampleID BarcodeSequence LinkerPrimerSequence  \\\n",
       "0  550.L1S116.s.1.sequence    ATGCCTGAGCAG  GTGCCAGCMGCCGCGGTAA   \n",
       "1  550.L1S119.s.1.sequence    CAGCACTAAGCG  GTGCCAGCMGCCGCGGTAA   \n",
       "2  550.L1S164.s.1.sequence    ATGTACGGCGAC  GTGCCAGCMGCCGCGGTAA   \n",
       "3  550.L1S194.s.1.sequence    CGAAGACTGCTG  GTGCCAGCMGCCGCGGTAA   \n",
       "4   550.L1S20.s.1.sequence    ACGGTGAGTGTC  GTGCCAGCMGCCGCGGTAA   \n",
       "\n",
       "        Description host_subject_id  study_id  \\\n",
       "0   sample_20 stool              F4       550   \n",
       "1   sample_23 stool              F4       550   \n",
       "2   sample_73 stool              M3       550   \n",
       "3  sample_105 stool              M3       550   \n",
       "4  sample_112 stool              F4       550   \n",
       "\n",
       "                                     title principal_investigator  \\\n",
       "0  Moving pictures of the human microbiome             Rob Knight   \n",
       "1  Moving pictures of the human microbiome             Rob Knight   \n",
       "2  Moving pictures of the human microbiome             Rob Knight   \n",
       "3  Moving pictures of the human microbiome             Rob Knight   \n",
       "4  Moving pictures of the human microbiome             Rob Knight   \n",
       "\n",
       "                        doi ebi_accession         ...         adiv_shannon  \\\n",
       "0  10.1186/gb-2011-12-5-r50     ERP021896         ...             3.867414   \n",
       "1  10.1186/gb-2011-12-5-r50     ERP021896         ...             3.265164   \n",
       "2  10.1186/gb-2011-12-5-r50     ERP021896         ...             3.661124   \n",
       "3  10.1186/gb-2011-12-5-r50     ERP021896         ...             4.439943   \n",
       "4  10.1186/gb-2011-12-5-r50     ERP021896         ...             3.327601   \n",
       "\n",
       "  adiv_faith_pd temperature_deg_c  ph salinity_psu oxygen_mg_per_l  \\\n",
       "0     12.457989               NaN NaN          NaN             NaN   \n",
       "1     10.719448               NaN NaN          NaN             NaN   \n",
       "2     14.214158               NaN NaN          NaN             NaN   \n",
       "3     12.012602               NaN NaN          NaN             NaN   \n",
       "4     11.758069               NaN NaN          NaN             NaN   \n",
       "\n",
       "  phosphate_umol_per_l  ammonium_umol_per_l  nitrate_umol_per_l  \\\n",
       "0                  NaN                  NaN                 NaN   \n",
       "1                  NaN                  NaN                 NaN   \n",
       "2                  NaN                  NaN                 NaN   \n",
       "3                  NaN                  NaN                 NaN   \n",
       "4                  NaN                  NaN                 NaN   \n",
       "\n",
       "   sulfate_umol_per_l  \n",
       "0                 NaN  \n",
       "1                 NaN  \n",
       "2                 NaN  \n",
       "3                 NaN  \n",
       "4                 NaN  \n",
       "\n",
       "[5 rows x 76 columns]"
      ]
     },
     "execution_count": 8,
     "metadata": {},
     "output_type": "execute_result"
    }
   ],
   "source": [
    "df = pd.read_csv('emp_qiime_mapping_subset_2k.tsv', sep='\\t')\n",
    "df.head()"
   ]
  },
  {
   "cell_type": "code",
   "execution_count": 9,
   "metadata": {},
   "outputs": [
    {
     "data": {
      "text/plain": [
       "(2000, 76)"
      ]
     },
     "execution_count": 9,
     "metadata": {},
     "output_type": "execute_result"
    }
   ],
   "source": [
    "df.shape"
   ]
  },
  {
   "cell_type": "markdown",
   "metadata": {},
   "source": [
    "# 3)- Data exploring"
   ]
  },
  {
   "cell_type": "code",
   "execution_count": 10,
   "metadata": {
    "scrolled": false
   },
   "outputs": [
    {
     "data": {
      "text/plain": [
       "Index(['#SampleID', 'BarcodeSequence', 'LinkerPrimerSequence', 'Description',\n",
       "       'host_subject_id', 'study_id', 'title', 'principal_investigator', 'doi',\n",
       "       'ebi_accession', 'target_gene', 'target_subfragment', 'pcr_primers',\n",
       "       'illumina_technology', 'extraction_center', 'run_center', 'run_date',\n",
       "       'read_length_bp', 'sequences_split_libraries',\n",
       "       'observations_closed_ref_greengenes', 'observations_closed_ref_silva',\n",
       "       'observations_open_ref_greengenes', 'observations_deblur_90bp',\n",
       "       'observations_deblur_100bp', 'observations_deblur_150bp',\n",
       "       'emp_release1', 'qc_filtered', 'subset_10k', 'subset_5k', 'subset_2k',\n",
       "       'sample_taxid', 'sample_scientific_name', 'host_taxid',\n",
       "       'host_common_name_provided', 'host_common_name', 'host_scientific_name',\n",
       "       'host_superkingdom', 'host_kingdom', 'host_phylum', 'host_class',\n",
       "       'host_order', 'host_family', 'host_genus', 'host_species',\n",
       "       'collection_timestamp', 'country', 'latitude_deg', 'longitude_deg',\n",
       "       'depth_m', 'altitude_m', 'elevation_m', 'env_biome', 'env_feature',\n",
       "       'env_material', 'envo_biome_0', 'envo_biome_1', 'envo_biome_2',\n",
       "       'envo_biome_3', 'envo_biome_4', 'envo_biome_5', 'empo_0', 'empo_1',\n",
       "       'empo_2', 'empo_3', 'adiv_observed_otus', 'adiv_chao1', 'adiv_shannon',\n",
       "       'adiv_faith_pd', 'temperature_deg_c', 'ph', 'salinity_psu',\n",
       "       'oxygen_mg_per_l', 'phosphate_umol_per_l', 'ammonium_umol_per_l',\n",
       "       'nitrate_umol_per_l', 'sulfate_umol_per_l'],\n",
       "      dtype='object')"
      ]
     },
     "execution_count": 10,
     "metadata": {},
     "output_type": "execute_result"
    }
   ],
   "source": [
    "df.columns"
   ]
  },
  {
   "cell_type": "code",
   "execution_count": 11,
   "metadata": {},
   "outputs": [],
   "source": [
    "df = df[['#SampleID', 'study_id', 'observations_deblur_90bp', 'latitude_deg', 'longitude_deg',\n",
    "         'temperature_deg_c', 'empo_3', 'envo_biome_2']]"
   ]
  },
  {
   "cell_type": "code",
   "execution_count": 12,
   "metadata": {},
   "outputs": [
    {
     "data": {
      "text/plain": [
       "(2000, 8)"
      ]
     },
     "execution_count": 12,
     "metadata": {},
     "output_type": "execute_result"
    }
   ],
   "source": [
    "df.shape"
   ]
  },
  {
   "cell_type": "code",
   "execution_count": 13,
   "metadata": {},
   "outputs": [
    {
     "data": {
      "text/html": [
       "<div>\n",
       "<style scoped>\n",
       "    .dataframe tbody tr th:only-of-type {\n",
       "        vertical-align: middle;\n",
       "    }\n",
       "\n",
       "    .dataframe tbody tr th {\n",
       "        vertical-align: top;\n",
       "    }\n",
       "\n",
       "    .dataframe thead th {\n",
       "        text-align: right;\n",
       "    }\n",
       "</style>\n",
       "<table border=\"1\" class=\"dataframe\">\n",
       "  <thead>\n",
       "    <tr style=\"text-align: right;\">\n",
       "      <th></th>\n",
       "      <th>#SampleID</th>\n",
       "      <th>study_id</th>\n",
       "      <th>observations_deblur_90bp</th>\n",
       "      <th>latitude_deg</th>\n",
       "      <th>longitude_deg</th>\n",
       "      <th>temperature_deg_c</th>\n",
       "      <th>empo_3</th>\n",
       "      <th>envo_biome_2</th>\n",
       "    </tr>\n",
       "  </thead>\n",
       "  <tbody>\n",
       "    <tr>\n",
       "      <th>0</th>\n",
       "      <td>550.L1S116.s.1.sequence</td>\n",
       "      <td>550</td>\n",
       "      <td>22567</td>\n",
       "      <td>40.015</td>\n",
       "      <td>-105.271</td>\n",
       "      <td>NaN</td>\n",
       "      <td>Animal distal gut</td>\n",
       "      <td>anthropogenic terrestrial biome</td>\n",
       "    </tr>\n",
       "    <tr>\n",
       "      <th>1</th>\n",
       "      <td>550.L1S119.s.1.sequence</td>\n",
       "      <td>550</td>\n",
       "      <td>27871</td>\n",
       "      <td>40.015</td>\n",
       "      <td>-105.271</td>\n",
       "      <td>NaN</td>\n",
       "      <td>Animal distal gut</td>\n",
       "      <td>anthropogenic terrestrial biome</td>\n",
       "    </tr>\n",
       "    <tr>\n",
       "      <th>2</th>\n",
       "      <td>550.L1S164.s.1.sequence</td>\n",
       "      <td>550</td>\n",
       "      <td>24134</td>\n",
       "      <td>40.015</td>\n",
       "      <td>-105.271</td>\n",
       "      <td>NaN</td>\n",
       "      <td>Animal distal gut</td>\n",
       "      <td>anthropogenic terrestrial biome</td>\n",
       "    </tr>\n",
       "  </tbody>\n",
       "</table>\n",
       "</div>"
      ],
      "text/plain": [
       "                 #SampleID  study_id  observations_deblur_90bp  latitude_deg  \\\n",
       "0  550.L1S116.s.1.sequence       550                     22567        40.015   \n",
       "1  550.L1S119.s.1.sequence       550                     27871        40.015   \n",
       "2  550.L1S164.s.1.sequence       550                     24134        40.015   \n",
       "\n",
       "   longitude_deg  temperature_deg_c             empo_3  \\\n",
       "0       -105.271                NaN  Animal distal gut   \n",
       "1       -105.271                NaN  Animal distal gut   \n",
       "2       -105.271                NaN  Animal distal gut   \n",
       "\n",
       "                      envo_biome_2  \n",
       "0  anthropogenic terrestrial biome  \n",
       "1  anthropogenic terrestrial biome  \n",
       "2  anthropogenic terrestrial biome  "
      ]
     },
     "execution_count": 13,
     "metadata": {},
     "output_type": "execute_result"
    }
   ],
   "source": [
    "df.head(3)"
   ]
  },
  {
   "cell_type": "code",
   "execution_count": null,
   "metadata": {},
   "outputs": [],
   "source": []
  },
  {
   "cell_type": "code",
   "execution_count": null,
   "metadata": {},
   "outputs": [],
   "source": []
  },
  {
   "cell_type": "code",
   "execution_count": null,
   "metadata": {},
   "outputs": [],
   "source": []
  },
  {
   "cell_type": "code",
   "execution_count": null,
   "metadata": {},
   "outputs": [],
   "source": []
  },
  {
   "cell_type": "code",
   "execution_count": null,
   "metadata": {},
   "outputs": [],
   "source": []
  },
  {
   "cell_type": "code",
   "execution_count": null,
   "metadata": {},
   "outputs": [],
   "source": []
  },
  {
   "cell_type": "markdown",
   "metadata": {},
   "source": [
    "# 4)-Group Operations"
   ]
  },
  {
   "cell_type": "markdown",
   "metadata": {},
   "source": [
    "### 4.1)- groupby\n",
    "\n",
    "Group series using a series of columns or a mapper (dict or key function, apply given function to group, return result as series).\n"
   ]
  },
  {
   "cell_type": "code",
   "execution_count": null,
   "metadata": {},
   "outputs": [],
   "source": []
  },
  {
   "cell_type": "code",
   "execution_count": null,
   "metadata": {},
   "outputs": [],
   "source": []
  },
  {
   "cell_type": "code",
   "execution_count": null,
   "metadata": {},
   "outputs": [],
   "source": []
  },
  {
   "cell_type": "code",
   "execution_count": null,
   "metadata": {},
   "outputs": [],
   "source": []
  },
  {
   "cell_type": "code",
   "execution_count": null,
   "metadata": {},
   "outputs": [],
   "source": []
  },
  {
   "cell_type": "code",
   "execution_count": null,
   "metadata": {},
   "outputs": [],
   "source": []
  },
  {
   "cell_type": "code",
   "execution_count": null,
   "metadata": {},
   "outputs": [],
   "source": []
  },
  {
   "cell_type": "code",
   "execution_count": null,
   "metadata": {},
   "outputs": [],
   "source": []
  },
  {
   "cell_type": "code",
   "execution_count": null,
   "metadata": {},
   "outputs": [],
   "source": []
  },
  {
   "cell_type": "code",
   "execution_count": null,
   "metadata": {},
   "outputs": [],
   "source": []
  },
  {
   "cell_type": "markdown",
   "metadata": {},
   "source": [
    "### 4.2)-melt"
   ]
  },
  {
   "cell_type": "code",
   "execution_count": null,
   "metadata": {},
   "outputs": [],
   "source": []
  },
  {
   "cell_type": "code",
   "execution_count": null,
   "metadata": {},
   "outputs": [],
   "source": []
  },
  {
   "cell_type": "code",
   "execution_count": null,
   "metadata": {},
   "outputs": [],
   "source": []
  },
  {
   "cell_type": "code",
   "execution_count": null,
   "metadata": {},
   "outputs": [],
   "source": []
  },
  {
   "cell_type": "code",
   "execution_count": null,
   "metadata": {},
   "outputs": [],
   "source": []
  },
  {
   "cell_type": "markdown",
   "metadata": {},
   "source": [
    "### 4.3)-pivot"
   ]
  },
  {
   "cell_type": "code",
   "execution_count": null,
   "metadata": {},
   "outputs": [],
   "source": []
  },
  {
   "cell_type": "code",
   "execution_count": null,
   "metadata": {},
   "outputs": [],
   "source": []
  },
  {
   "cell_type": "code",
   "execution_count": null,
   "metadata": {},
   "outputs": [],
   "source": []
  },
  {
   "cell_type": "code",
   "execution_count": null,
   "metadata": {},
   "outputs": [],
   "source": []
  },
  {
   "cell_type": "code",
   "execution_count": null,
   "metadata": {},
   "outputs": [],
   "source": []
  },
  {
   "cell_type": "code",
   "execution_count": null,
   "metadata": {},
   "outputs": [],
   "source": []
  },
  {
   "cell_type": "code",
   "execution_count": null,
   "metadata": {},
   "outputs": [],
   "source": []
  },
  {
   "cell_type": "markdown",
   "metadata": {},
   "source": [
    "### 4.4)-pivot_table"
   ]
  },
  {
   "cell_type": "code",
   "execution_count": null,
   "metadata": {},
   "outputs": [],
   "source": []
  },
  {
   "cell_type": "code",
   "execution_count": null,
   "metadata": {},
   "outputs": [],
   "source": []
  },
  {
   "cell_type": "code",
   "execution_count": null,
   "metadata": {},
   "outputs": [],
   "source": []
  },
  {
   "cell_type": "code",
   "execution_count": null,
   "metadata": {},
   "outputs": [],
   "source": []
  },
  {
   "cell_type": "code",
   "execution_count": null,
   "metadata": {},
   "outputs": [],
   "source": []
  },
  {
   "cell_type": "code",
   "execution_count": null,
   "metadata": {},
   "outputs": [],
   "source": []
  },
  {
   "cell_type": "markdown",
   "metadata": {},
   "source": [
    "### 4.5)-stack"
   ]
  },
  {
   "cell_type": "code",
   "execution_count": null,
   "metadata": {},
   "outputs": [],
   "source": []
  },
  {
   "cell_type": "code",
   "execution_count": null,
   "metadata": {},
   "outputs": [],
   "source": []
  },
  {
   "cell_type": "code",
   "execution_count": null,
   "metadata": {},
   "outputs": [],
   "source": []
  },
  {
   "cell_type": "code",
   "execution_count": null,
   "metadata": {},
   "outputs": [],
   "source": []
  },
  {
   "cell_type": "markdown",
   "metadata": {},
   "source": [
    "### 4.6)-unstack"
   ]
  },
  {
   "cell_type": "code",
   "execution_count": null,
   "metadata": {},
   "outputs": [],
   "source": []
  },
  {
   "cell_type": "code",
   "execution_count": null,
   "metadata": {},
   "outputs": [],
   "source": []
  },
  {
   "cell_type": "code",
   "execution_count": null,
   "metadata": {},
   "outputs": [],
   "source": []
  },
  {
   "cell_type": "code",
   "execution_count": null,
   "metadata": {},
   "outputs": [],
   "source": []
  },
  {
   "cell_type": "code",
   "execution_count": null,
   "metadata": {},
   "outputs": [],
   "source": []
  },
  {
   "cell_type": "code",
   "execution_count": null,
   "metadata": {},
   "outputs": [],
   "source": []
  },
  {
   "cell_type": "code",
   "execution_count": null,
   "metadata": {},
   "outputs": [],
   "source": []
  },
  {
   "cell_type": "code",
   "execution_count": null,
   "metadata": {},
   "outputs": [],
   "source": []
  },
  {
   "cell_type": "code",
   "execution_count": null,
   "metadata": {},
   "outputs": [],
   "source": []
  },
  {
   "cell_type": "markdown",
   "metadata": {},
   "source": [
    "### 4.7)-value_counts"
   ]
  },
  {
   "cell_type": "code",
   "execution_count": null,
   "metadata": {},
   "outputs": [],
   "source": []
  },
  {
   "cell_type": "code",
   "execution_count": null,
   "metadata": {},
   "outputs": [],
   "source": []
  },
  {
   "cell_type": "code",
   "execution_count": null,
   "metadata": {},
   "outputs": [],
   "source": []
  },
  {
   "cell_type": "code",
   "execution_count": null,
   "metadata": {},
   "outputs": [],
   "source": []
  },
  {
   "cell_type": "code",
   "execution_count": null,
   "metadata": {},
   "outputs": [],
   "source": []
  },
  {
   "cell_type": "code",
   "execution_count": null,
   "metadata": {},
   "outputs": [],
   "source": []
  },
  {
   "cell_type": "code",
   "execution_count": null,
   "metadata": {},
   "outputs": [],
   "source": []
  }
 ],
 "metadata": {
  "kernelspec": {
   "display_name": "Python 3",
   "language": "python",
   "name": "python3"
  },
  "language_info": {
   "codemirror_mode": {
    "name": "ipython",
    "version": 3
   },
   "file_extension": ".py",
   "mimetype": "text/x-python",
   "name": "python",
   "nbconvert_exporter": "python",
   "pygments_lexer": "ipython3",
   "version": "3.6.3"
  }
 },
 "nbformat": 4,
 "nbformat_minor": 2
}
